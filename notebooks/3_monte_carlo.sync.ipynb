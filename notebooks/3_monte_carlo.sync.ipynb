{
 "cells": [
  {
   "cell_type": "markdown",
   "id": "96287e85",
   "metadata": {},
   "source": [
    "# Exercise 1.1 - Umbrella sampling"
   ]
  },
  {
   "cell_type": "code",
   "execution_count": 22,
   "id": "68015c57",
   "metadata": {},
   "outputs": [],
   "source": [
    "from pathlib import Path\n",
    "\n",
    "import numpy as np\n",
    "import matplotlib.pyplot as plt\n",
    "import tqdm.contrib.concurrent\n",
    "\n",
    "import soft_matter.sample\n",
    "import soft_matter.energy\n",
    "import soft_matter.dynamics"
   ]
  },
  {
   "cell_type": "code",
   "execution_count": 30,
   "id": "fc7d5c3d",
   "metadata": {},
   "outputs": [
    {
     "name": "stdout",
     "output_type": "stream",
     "text": [
      "Planning on doing 15 simulations.\n"
     ]
    }
   ],
   "source": [
    "NUM_SEGMENTS = 16\n",
    "A_SEGMENTS = 4\n",
    "UMBRELLA_CONST = 10_000\n",
    "\n",
    "np.random.seed(42)  # make experiments reproducible\n",
    "data_dir = Path.cwd() / \"..\" / \"data\"\n",
    "figure_dir = Path.cwd() / \"..\" / \"report\" / \"figures\"\n",
    "\n",
    "sample_dist = .02\n",
    "num_ensembles = int(3 / sample_dist) + 4\n",
    "reaction_coordinates = np.linspace(0, 3, num=num_ensembles)\n",
    "print(f\"Planning on doing {num_ensembles} simulations.\")"
   ]
  },
  {
   "cell_type": "code",
   "execution_count": 14,
   "id": "38643356",
   "metadata": {},
   "outputs": [],
   "source": [
    "def energy_umbrella(polymer, constraint):\n",
    "    polymer_energy = soft_matter.energy.total_bond_energy(polymer)\n",
    "    constraint_shift = soft_matter.energy.polymer_pos_to_rad(polymer) - constraint\n",
    "    umbrella_shift = UMBRELLA_CONST / 2 * np.sum(constraint_shift * constraint_shift)\n",
    "    return polymer_energy + umbrella_shift"
   ]
  },
  {
   "cell_type": "markdown",
   "id": "1a12bd0c",
   "metadata": {},
   "source": [
    "## Simulate the different ensembles"
   ]
  },
  {
   "cell_type": "code",
   "execution_count": 15,
   "id": "7bebb3ed",
   "metadata": {},
   "outputs": [
    {
     "data": {
      "application/vnd.jupyter.widget-view+json": {
       "model_id": "b6b67ed3528d4ff5b5254838e331b2f4",
       "version_major": 2,
       "version_minor": 0
      },
      "text/plain": [
       "  0%|          | 0/1600000 [00:00<?, ?it/s]"
      ]
     },
     "metadata": {},
     "output_type": "display_data"
    },
    {
     "name": "stderr",
     "output_type": "stream",
     "text": [
      "/tmp/ipykernel_1180353/2167198605.py:13: RuntimeWarning: overflow encountered in exp\n",
      "  acceptance_rate = np.exp(energy_old - energy_new)\n"
     ]
    }
   ],
   "source": [
    "max_steps = 100_000\n",
    "drop_start = 10_000\n",
    "energy = energy_umbrella\n",
    "\n",
    "def mc_sim(constraint):\n",
    "    old_polymer = soft_matter.sample.sample_initial(NUM_SEGMENTS)\n",
    "    ens = [old_polymer]\n",
    "    energy_old = energy(old_polymer, constraint)\n",
    "    for _ in range(max_steps * NUM_SEGMENTS):\n",
    "        new_polymer = soft_matter.dynamics.polymer_step(old_polymer)\n",
    "        energy_new = energy(new_polymer, constraint)\n",
    "\n",
    "        acceptance_rate = np.exp(energy_old - energy_new)\n",
    "        mc_number = np.random.rand()\n",
    "        if mc_number < acceptance_rate:  # accepted\n",
    "            ens.append(new_polymer)\n",
    "            old_polymer = new_polymer\n",
    "            energy_old = energy_new\n",
    "        else:\n",
    "            ens.append(old_polymer)  # rejected\n",
    "\n",
    "    ens = np.array(ens[drop_start * NUM_SEGMENTS:])\n",
    "    return ens\n",
    "\n",
    "enss = tqdm.contrib.concurrent.process_map(mc_sim, reaction_coordinates)"
   ]
  }
 ],
 "metadata": {
  "kernelspec": {
   "display_name": "Python 3 (ipykernel)",
   "language": "python",
   "name": "python3"
  },
  "language_info": {
   "codemirror_mode": {
    "name": "ipython",
    "version": 3
   },
   "file_extension": ".py",
   "mimetype": "text/x-python",
   "name": "python",
   "nbconvert_exporter": "python",
   "pygments_lexer": "ipython3",
   "version": "3.10.8"
  }
 },
 "nbformat": 4,
 "nbformat_minor": 5
}
