{
 "cells": [
  {
   "cell_type": "markdown",
   "id": "07c373cd",
   "metadata": {},
   "source": [
    "# Exercise 1.1: Markov Chain Monte-Carlo of a single polymer"
   ]
  },
  {
   "cell_type": "code",
   "execution_count": 1,
   "id": "0bb54be3",
   "metadata": {},
   "outputs": [],
   "source": [
    "from pathlib import Path\n",
    "\n",
    "import scipy.interpolate\n",
    "import numpy as np\n",
    "import numba\n",
    "from tqdm.notebook import tqdm as tqdm_\n",
    "import tqdm.contrib.concurrent\n",
    "import matplotlib.pyplot as plt\n",
    "\n",
    "import soft_matter.sample"
   ]
  },
  {
   "cell_type": "code",
   "execution_count": 2,
   "id": "45a0739c",
   "metadata": {},
   "outputs": [],
   "source": [
    "NUM_SEGMENTS = 16\n",
    "SPRING_CONSTANT = 3 * (NUM_SEGMENTS - 1) / 2\n",
    "\n",
    "np.random.seed(42)  # make experiments reproducible\n",
    "data_dir = Path.cwd() / \"..\" / \"data\"\n",
    "figure_dir = Path.cwd() / \"..\" / \"report\" / \"figures\""
   ]
  },
  {
   "cell_type": "markdown",
   "id": "8740c47b",
   "metadata": {},
   "source": [
    "### Show the fields in the micella"
   ]
  },
  {
   "cell_type": "code",
   "execution_count": 3,
   "id": "8c05de2c",
   "metadata": {},
   "outputs": [
    {
     "data": {
      "text/plain": [
       "<matplotlib.legend.Legend at 0x7fdf0bcddab0>"
      ]
     },
     "execution_count": 3,
     "metadata": {},
     "output_type": "execute_result"
    },
    {
     "data": {
      "image/png": "[encoded data removed]",
      "text/plain": [
       "<Figure size 432x288 with 1 Axes>"
      ]
     },
     "metadata": {
      "needs_background": "light"
     },
     "output_type": "display_data"
    }
   ],
   "source": [
    "pos, phobic, philic = np.loadtxt(data_dir / \"omega.dat\", delimiter=\" \", skiprows=1, dtype=np.float64).T\n",
    "field_A = scipy.interpolate.interp1d(pos, phobic, fill_value=phobic[-1], bounds_error=False)\n",
    "field_B = scipy.interpolate.interp1d(pos, philic, fill_value=philic[-1], bounds_error=False)\n",
    "\n",
    "r = np.linspace(0, 5, num=1_000)\n",
    "plt.plot(r, field_A(r), label=\"$\\\\omega_A$\", color=\"r\")\n",
    "plt.plot(r, field_B(r), label=\"$\\\\omega_B$\", color=\"b\")\n",
    "plt.ylabel(\"$\\\\omega$\")\n",
    "plt.xlabel(\"$r / R_e$\")\n",
    "plt.legend()"
   ]
  },
  {
   "cell_type": "code",
   "execution_count": 4,
   "id": "8645b08a",
   "metadata": {},
   "outputs": [],
   "source": [
    "@numba.njit\n",
    "def total_bond_energy(polymer) -> float:\n",
    "    \"\"\"Calculate the energy of a polymer stored in it's bonds.\"\"\"\n",
    "    diffs = polymer[1:, :] - polymer[:-1, :]\n",
    "    summed = np.sum(diffs * diffs)\n",
    "    return summed * SPRING_CONSTANT\n",
    "\n",
    "@numba.njit\n",
    "def polymer_step(polymer):\n",
    "    \"\"\"Propose a step on a polymer with a single segment displacement.\"\"\"\n",
    "    new_polymer = polymer.copy()\n",
    "    selected_index = np.random.choice(NUM_SEGMENTS)\n",
    "\n",
    "    step_length = 1 / np.sqrt(NUM_SEGMENTS - 1)\n",
    "    random_step = np.random.rand(3) * 2 - 1\n",
    "    displacement = random_step * step_length\n",
    "    new_polymer[selected_index, :] += displacement\n",
    "\n",
    "    return new_polymer"
   ]
  },
  {
   "cell_type": "markdown",
   "id": "76e4df45",
   "metadata": {},
   "source": [
    "## Simulate without external fields"
   ]
  },
  {
   "cell_type": "code",
   "execution_count": 16,
   "id": "ff8690bb",
   "metadata": {},
   "outputs": [
    {
     "data": {
      "application/vnd.jupyter.widget-view+json": {
       "model_id": "8c33306b564a4c5883d8b11ab1a74ec0",
       "version_major": 2,
       "version_minor": 0
      },
      "text/plain": [
       "  0%|          | 0/15000000 [00:00<?, ?it/s]"
      ]
     },
     "metadata": {},
     "output_type": "display_data"
    },
    {
     "name": "stdout",
     "output_type": "stream",
     "text": [
      "2022-10-18T19:47:28.775890+0200 - Timed out waiting for syncing to complete.\n",
      "2022-10-18T19:47:35.423138+0200 - Timed out waiting for syncing to complete.\n"
     ]
    }
   ],
   "source": [
    "max_steps = 1_000_000\n",
    "drop_start = 200_000\n",
    "energy = total_bond_energy\n",
    "\n",
    "old_polymer = soft_matter.sample.sample_initial(NUM_SEGMENTS)\n",
    "ens = [old_polymer]\n",
    "energy_old = energy(old_polymer)\n",
    "for step in tqdm_(range(max_steps * NUM_SEGMENTS)):\n",
    "    new_polymer = polymer_step(old_polymer)\n",
    "    energy_new = energy(new_polymer)\n",
    "\n",
    "    acceptance_rate = np.exp(energy_old - energy_new)\n",
    "    mc_number = np.random.rand()\n",
    "    if mc_number < acceptance_rate:  # accepted\n",
    "        ens.append(new_polymer)\n",
    "        old_polymer = new_polymer\n",
    "    else:\n",
    "        ens.append(old_polymer)  # rejected\n",
    "\n",
    "ens = np.array(ens[drop_start * NUM_SEGMENTS:])"
   ]
  },
  {
   "cell_type": "markdown",
   "id": "b30a6f08",
   "metadata": {},
   "source": [
    "### Analyze the simulation results"
   ]
  },
  {
   "cell_type": "code",
   "execution_count": 17,
   "id": "e42be043",
   "metadata": {},
   "outputs": [
    {
     "name": "stdout",
     "output_type": "stream",
     "text": [
      "x: mean=-0.0000 std=0.7927\n",
      "y: mean=-0.0283 std=0.7693\n",
      "z: mean=-0.0032 std=0.7667\n"
     ]
    },
    {
     "data": {
      "image/png": "[encoded data removed]",
      "text/plain": [
       "<Figure size 432x288 with 1 Axes>"
      ]
     },
     "metadata": {
      "needs_background": "light"
     },
     "output_type": "display_data"
    }
   ],
   "source": [
    "end_to_end = ens[:, 0, :] - ens[:, -1, :]\n",
    "xs, ys, zs = end_to_end.T\n",
    "plt.hist(xs, stacked=True, density=True, alpha=.2, bins=100, label=\"xs\")\n",
    "plt.hist(ys, stacked=True, density=True, alpha=.2, bins=100, label=\"ys\")\n",
    "plt.hist(zs, stacked=True, density=True, alpha=.2, bins=100, label=\"zs\")\n",
    "plt.legend()\n",
    "plt.xlabel(\"$r/R_e$\")\n",
    "plt.ylabel(\"$P(R_i)$\")\n",
    "\n",
    "print(f\"x: mean={xs.mean():.4f} std={xs.var():.4f}\")\n",
    "print(f\"y: mean={ys.mean():.4f} std={ys.var():.4f}\")\n",
    "print(f\"z: mean={zs.mean():.4f} std={zs.var():.4f}\")"
   ]
  },
  {
   "cell_type": "code",
   "execution_count": 7,
   "id": "73811313",
   "metadata": {},
   "outputs": [
    {
     "data": {
      "application/vnd.jupyter.widget-view+json": {
       "model_id": "d070637b4ae34c73afa27fd274bfffcb",
       "version_major": 2,
       "version_minor": 0
      },
      "text/plain": [
       "  0%|          | 0/480000 [00:00<?, ?it/s]"
      ]
     },
     "metadata": {},
     "output_type": "display_data"
    },
    {
     "name": "stderr",
     "output_type": "stream",
     "text": [
      "Process ForkProcess-7:\n",
      "Process ForkProcess-3:\n",
      "Process ForkProcess-1:\n",
      "Process ForkProcess-2:\n",
      "Traceback (most recent call last):\n",
      "Traceback (most recent call last):\n",
      "Process ForkProcess-5:\n",
      "Process ForkProcess-4:\n",
      "Process ForkProcess-8:\n",
      "Process ForkProcess-6:\n",
      "Traceback (most recent call last):\n",
      "  File \"/usr/lib/python3.10/multiprocessing/process.py\", line 314, in _bootstrap\n",
      "    self.run()\n",
      "Traceback (most recent call last):\n",
      "KeyboardInterrupt\n",
      "KeyboardInterrupt\n",
      "Traceback (most recent call last):\n",
      "  File \"/usr/lib/python3.10/multiprocessing/process.py\", line 314, in _bootstrap\n",
      "    self.run()\n",
      "  File \"/usr/lib/python3.10/multiprocessing/process.py\", line 314, in _bootstrap\n",
      "    self.run()\n",
      "  File \"/usr/lib/python3.10/multiprocessing/synchronize.py\", line 95, in __enter__\n",
      "    return self._semlock.__enter__()\n",
      "Traceback (most recent call last):\n",
      "Traceback (most recent call last):\n",
      "Traceback (most recent call last):\n",
      "  File \"/usr/lib/python3.10/multiprocessing/process.py\", line 108, in run\n",
      "    self._target(*self._args, **self._kwargs)\n",
      "  File \"/usr/lib/python3.10/multiprocessing/process.py\", line 314, in _bootstrap\n",
      "    self.run()\n",
      "  File \"/usr/lib/python3.10/multiprocessing/process.py\", line 108, in run\n",
      "    self._target(*self._args, **self._kwargs)\n",
      "  File \"/usr/lib/python3.10/multiprocessing/process.py\", line 314, in _bootstrap\n",
      "    self.run()\n",
      "  File \"/usr/lib/python3.10/multiprocessing/process.py\", line 314, in _bootstrap\n",
      "    self.run()\n",
      "  File \"/usr/lib/python3.10/multiprocessing/process.py\", line 108, in run\n",
      "    self._target(*self._args, **self._kwargs)\n",
      "  File \"/usr/lib/python3.10/multiprocessing/process.py\", line 314, in _bootstrap\n",
      "    self.run()\n",
      "  File \"/usr/lib/python3.10/multiprocessing/process.py\", line 108, in run\n",
      "    self._target(*self._args, **self._kwargs)\n",
      "  File \"/usr/lib/python3.10/multiprocessing/process.py\", line 108, in run\n",
      "    self._target(*self._args, **self._kwargs)\n",
      "  File \"/usr/lib/python3.10/concurrent/futures/process.py\", line 240, in _process_worker\n",
      "    call_item = call_queue.get(block=True)\n",
      "  File \"/usr/lib/python3.10/multiprocessing/process.py\", line 108, in run\n",
      "    self._target(*self._args, **self._kwargs)\n",
      "  File \"/usr/lib/python3.10/concurrent/futures/process.py\", line 240, in _process_worker\n",
      "    call_item = call_queue.get(block=True)\n",
      "  File \"/usr/lib/python3.10/concurrent/futures/process.py\", line 240, in _process_worker\n",
      "    call_item = call_queue.get(block=True)\n",
      "  File \"/usr/lib/python3.10/concurrent/futures/process.py\", line 240, in _process_worker\n",
      "    call_item = call_queue.get(block=True)\n",
      "  File \"/usr/lib/python3.10/multiprocessing/queues.py\", line 102, in get\n",
      "    with self._rlock:\n",
      "  File \"/usr/lib/python3.10/concurrent/futures/process.py\", line 240, in _process_worker\n",
      "    call_item = call_queue.get(block=True)\n",
      "  File \"/usr/lib/python3.10/multiprocessing/queues.py\", line 103, in get\n",
      "    res = self._recv_bytes()\n",
      "  File \"/usr/lib/python3.10/multiprocessing/queues.py\", line 102, in get\n",
      "    with self._rlock:\n",
      "  File \"/usr/lib/python3.10/concurrent/futures/process.py\", line 240, in _process_worker\n",
      "    call_item = call_queue.get(block=True)\n",
      "  File \"/usr/lib/python3.10/multiprocessing/synchronize.py\", line 95, in __enter__\n",
      "    return self._semlock.__enter__()\n",
      "  File \"/usr/lib/python3.10/multiprocessing/process.py\", line 314, in _bootstrap\n",
      "    self.run()\n",
      "  File \"/usr/lib/python3.10/multiprocessing/process.py\", line 108, in run\n",
      "    self._target(*self._args, **self._kwargs)\n",
      "  File \"/usr/lib/python3.10/multiprocessing/connection.py\", line 221, in recv_bytes\n",
      "    buf = self._recv_bytes(maxlength)\n",
      "  File \"/usr/lib/python3.10/multiprocessing/queues.py\", line 102, in get\n",
      "    with self._rlock:\n",
      "  File \"/usr/lib/python3.10/multiprocessing/queues.py\", line 102, in get\n",
      "    with self._rlock:\n",
      "KeyboardInterrupt\n",
      "  File \"/usr/lib/python3.10/multiprocessing/queues.py\", line 102, in get\n",
      "    with self._rlock:\n",
      "  File \"/usr/lib/python3.10/multiprocessing/process.py\", line 108, in run\n",
      "    self._target(*self._args, **self._kwargs)\n",
      "  File \"/usr/lib/python3.10/concurrent/futures/process.py\", line 240, in _process_worker\n",
      "    call_item = call_queue.get(block=True)\n",
      "  File \"/usr/lib/python3.10/multiprocessing/synchronize.py\", line 95, in __enter__\n",
      "    return self._semlock.__enter__()\n",
      "  File \"/usr/lib/python3.10/multiprocessing/synchronize.py\", line 95, in __enter__\n",
      "    return self._semlock.__enter__()\n",
      "  File \"/usr/lib/python3.10/multiprocessing/connection.py\", line 426, in _recv_bytes\n",
      "    return self._recv(size)\n",
      "  File \"/usr/lib/python3.10/multiprocessing/synchronize.py\", line 95, in __enter__\n",
      "    return self._semlock.__enter__()\n",
      "KeyboardInterrupt\n",
      "KeyboardInterrupt\n",
      "  File \"/usr/lib/python3.10/multiprocessing/synchronize.py\", line 95, in __enter__\n",
      "    return self._semlock.__enter__()\n",
      "  File \"/usr/lib/python3.10/concurrent/futures/process.py\", line 240, in _process_worker\n",
      "    call_item = call_queue.get(block=True)\n",
      "  File \"/usr/lib/python3.10/multiprocessing/connection.py\", line 384, in _recv\n",
      "    chunk = read(handle, remaining)\n",
      "KeyboardInterrupt\n",
      "  File \"/usr/lib/python3.10/multiprocessing/queues.py\", line 102, in get\n",
      "    with self._rlock:\n",
      "  File \"/usr/lib/python3.10/multiprocessing/queues.py\", line 102, in get\n",
      "    with self._rlock:\n",
      "KeyboardInterrupt\n",
      "  File \"/usr/lib/python3.10/multiprocessing/synchronize.py\", line 95, in __enter__\n",
      "    return self._semlock.__enter__()\n",
      "KeyboardInterrupt\n",
      "\n",
      "KeyboardInterrupt\n",
      "\n"
     ]
    }
   ],
   "source": [
    "def center_of_mass(polymer_ens):\n",
    "    \"\"\"Transform a polymer ensemble to it's COM ensemble.\"\"\"\n",
    "    return np.mean(polymer_ens, axis=-2)\n",
    "\n",
    "@numba.njit\n",
    "def displacement(pos_ens, delta_t):\n",
    "    \"\"\"Calculates MSD from an ensemble of positions.\"\"\"\n",
    "    t_all, dims = pos_ens.shape\n",
    "\n",
    "    r = np.zeros((t_all - delta_t, dims))\n",
    "\n",
    "    for t in range(t_all - delta_t):\n",
    "        for dim in range(3):\n",
    "            r[t, dim] = pos_ens[t + delta_t, dim] - pos_ens[t, dim]\n",
    "    return r\n",
    "\n",
    "def mean_square_displacement(polymer_ens, delta_t):\n",
    "    com = center_of_mass(polymer_ens)\n",
    "    com_disp = displacement(com, delta_t)\n",
    "    return np.mean(np.linalg.norm(com_disp, axis=-1)**2)\n",
    "\n",
    "t_max = int(ens.shape[0] * .6)\n",
    "auc = tqdm.contrib.concurrent.process_map(ens, range(t_max), chunksize=t_max // 50)\n",
    "print(auc)"
   ]
  }
 ],
 "metadata": {
  "kernelspec": {
   "display_name": "Python 3 (ipykernel)",
   "language": "python",
   "name": "python3"
  },
  "language_info": {
   "codemirror_mode": {
    "name": "ipython",
    "version": 3
   },
   "file_extension": ".py",
   "mimetype": "text/x-python",
   "name": "python",
   "nbconvert_exporter": "python",
   "pygments_lexer": "ipython3",
   "version": "3.10.8"
  }
 },
 "nbformat": 4,
 "nbformat_minor": 5
}
