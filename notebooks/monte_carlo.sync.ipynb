{
 "cells": [
  {
   "cell_type": "markdown",
   "id": "07c373cd",
   "metadata": {},
   "source": [
    "# Exercise 1.1: Markov Chain Monte-Carlo of a single polymer"
   ]
  },
  {
   "cell_type": "code",
   "execution_count": 26,
   "id": "e129164e",
   "metadata": {},
   "outputs": [
    {
     "ename": "ModuleNotFoundError",
     "evalue": "No module named 'soft_matter'",
     "output_type": "error",
     "traceback": [
      "\u001b[0;31m---------------------------------------------------------------------------\u001b[0m",
      "\u001b[0;31mModuleNotFoundError\u001b[0m                       Traceback (most recent call last)",
      "Input \u001b[0;32mIn [26]\u001b[0m, in \u001b[0;36m<cell line: 7>\u001b[0;34m()\u001b[0m\n\u001b[1;32m      4\u001b[0m \u001b[38;5;28;01mimport\u001b[39;00m \u001b[38;5;21;01mnumpy\u001b[39;00m \u001b[38;5;28;01mas\u001b[39;00m \u001b[38;5;21;01mnp\u001b[39;00m\n\u001b[1;32m      5\u001b[0m \u001b[38;5;28;01mimport\u001b[39;00m \u001b[38;5;21;01mmatplotlib\u001b[39;00m\u001b[38;5;21;01m.\u001b[39;00m\u001b[38;5;21;01mpyplot\u001b[39;00m \u001b[38;5;28;01mas\u001b[39;00m \u001b[38;5;21;01mplt\u001b[39;00m\n\u001b[0;32m----> 7\u001b[0m \u001b[38;5;28;01mimport\u001b[39;00m \u001b[38;5;21;01msoft_matter\u001b[39;00m\u001b[38;5;21;01m.\u001b[39;00m\u001b[38;5;21;01msample\u001b[39;00m\n",
      "\u001b[0;31mModuleNotFoundError\u001b[0m: No module named 'soft_matter'"
     ]
    }
   ],
   "source": [
    "from pathlib import Path\n",
    "\n",
    "import scipy.interpolate\n",
    "import numpy as np\n",
    "import matplotlib.pyplot as plt\n",
    "\n",
    "import soft_matter.sample"
   ]
  },
  {
   "cell_type": "code",
   "execution_count": 23,
   "id": "e0701f84",
   "metadata": {},
   "outputs": [],
   "source": [
    "NUM_SEGMENTS = 15\n",
    "SPRING_CONSTANT = 3 * (NUM_SEGMENTS - 1) / 2\n",
    "\n",
    "np.random.seed(42)  # make experiments reproducible\n",
    "data_dir = Path.cwd() / \"..\" / \"data\"\n",
    "figure_dir = Path.cwd() / \"..\" / \"report\" / \"figures\""
   ]
  },
  {
   "cell_type": "markdown",
   "id": "86b074be",
   "metadata": {},
   "source": [
    "### Show the fields in the micella"
   ]
  },
  {
   "cell_type": "code",
   "execution_count": 24,
   "id": "e3cd3933",
   "metadata": {},
   "outputs": [
    {
     "data": {
      "text/plain": [
       "<matplotlib.legend.Legend at 0x7f9e30382b00>"
      ]
     },
     "execution_count": 24,
     "metadata": {},
     "output_type": "execute_result"
    },
    {
     "data": {
      "image/png": "[encoded data removed]",
      "text/plain": [
       "<Figure size 432x288 with 1 Axes>"
      ]
     },
     "metadata": {
      "needs_background": "light"
     },
     "output_type": "display_data"
    }
   ],
   "source": [
    "pos, phobic, philic = np.loadtxt(data_dir / \"omega.dat\", delimiter=\" \", skiprows=1, dtype=np.float64).T\n",
    "field_A = scipy.interpolate.interp1d(pos, phobic, fill_value=phobic[-1], bounds_error=False)\n",
    "field_B = scipy.interpolate.interp1d(pos, philic, fill_value=philic[-1], bounds_error=False)\n",
    "\n",
    "r = np.linspace(0, 5, num=1_000)\n",
    "plt.plot(r, field_A(r), label=\"$\\\\omega_A$\", color=\"r\")\n",
    "plt.plot(r, field_B(r), label=\"$\\\\omega_B$\", color=\"b\")\n",
    "plt.ylabel(\"$\\\\omega$\")\n",
    "plt.xlabel(\"$r / R_e$\")\n",
    "plt.legend()"
   ]
  },
  {
   "cell_type": "code",
   "execution_count": null,
   "id": "7cbd75e9",
   "metadata": {},
   "outputs": [],
   "source": [
    "def \n",
    "def total_bond_energy(polymer) -> float:\n",
    "    \"\"\"Calculate the energy of a polymer stored in it's bonds.\"\"\"\n",
    "    diffs = polymer[1:, :] - polymer[:-1, :]\n",
    "    summed = np.sum(diffs * diffs)\n",
    "    return summed * SPRING_CONSTANT"
   ]
  }
 ],
 "metadata": {
  "kernelspec": {
   "display_name": "Python 3 (ipykernel)",
   "language": "python",
   "name": "python3"
  },
  "language_info": {
   "codemirror_mode": {
    "name": "ipython",
    "version": 3
   },
   "file_extension": ".py",
   "mimetype": "text/x-python",
   "name": "python",
   "nbconvert_exporter": "python",
   "pygments_lexer": "ipython3",
   "version": "3.10.8"
  }
 },
 "nbformat": 4,
 "nbformat_minor": 5
}
