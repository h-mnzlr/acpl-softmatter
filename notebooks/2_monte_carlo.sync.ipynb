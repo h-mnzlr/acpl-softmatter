{
 "cells": [
  {
   "cell_type": "markdown",
   "id": "fabde78a",
   "metadata": {},
   "source": [
    "# Exercise 1.1 - Simulate with fields"
   ]
  },
  {
   "cell_type": "code",
   "execution_count": 1,
   "id": "cf313588",
   "metadata": {},
   "outputs": [],
   "source": [
    "from pathlib import Path\n",
    "\n",
    "import numpy as np\n",
    "import numba\n",
    "import scipy.interpolate\n",
    "import matplotlib.pyplot as plt\n",
    "from tqdm.notebook import tqdm as tqdm_\n",
    "\n",
    "import soft_matter.sample\n",
    "import soft_matter.energy\n",
    "import soft_matter.dynamics"
   ]
  },
  {
   "cell_type": "code",
   "execution_count": 2,
   "id": "af92574d",
   "metadata": {},
   "outputs": [],
   "source": [
    "NUM_SEGMENTS = 16\n",
    "A_SEGMENTS = 4\n",
    "\n",
    "np.random.seed(42)  # make experiments reproducible\n",
    "data_dir = Path.cwd() / \"..\" / \"data\"\n",
    "figure_dir = Path.cwd() / \"..\" / \"report\" / \"figures\""
   ]
  },
  {
   "cell_type": "markdown",
   "id": "909cb369",
   "metadata": {},
   "source": [
    "### Show the fields in the micella"
   ]
  },
  {
   "cell_type": "code",
   "execution_count": 3,
   "id": "69b595e3",
   "metadata": {},
   "outputs": [
    {
     "data": {
      "text/plain": [
       "<matplotlib.legend.Legend at 0x7fafe0c21e40>"
      ]
     },
     "execution_count": 3,
     "metadata": {},
     "output_type": "execute_result"
    },
    {
     "data": {
      "image/png": "[encoded data removed]",
      "text/plain": [
       "<Figure size 432x288 with 1 Axes>"
      ]
     },
     "metadata": {
      "needs_background": "light"
     },
     "output_type": "display_data"
    }
   ],
   "source": [
    "pos, phobic, philic = np.loadtxt(data_dir / \"omega.dat\", delimiter=\" \", skiprows=1, dtype=np.float64).T\n",
    "field_A = scipy.interpolate.interp1d(pos, phobic, fill_value=phobic[-1], bounds_error=False)\n",
    "field_B = scipy.interpolate.interp1d(pos, philic, fill_value=philic[-1], bounds_error=False)\n",
    "\n",
    "r = np.linspace(0, 5, num=1_000)\n",
    "plt.plot(r, field_A(r), label=\"$\\\\omega_A$\", color=\"r\")\n",
    "plt.plot(r, field_B(r), label=\"$\\\\omega_B$\", color=\"b\")\n",
    "plt.ylabel(\"$\\\\omega$\")\n",
    "plt.xlabel(\"$r / R_e$\")\n",
    "plt.legend()"
   ]
  },
  {
   "cell_type": "code",
   "execution_count": 4,
   "id": "e84f722d",
   "metadata": {},
   "outputs": [],
   "source": [
    "@numba.njit\n",
    "def polymer_pos_to_rad(polymer):\n",
    "    xs, ys, zs = polymer[..., 0], polymer[..., 1], polymer[..., 2]\n",
    "    return np.sqrt(xs * xs + ys * ys + zs * zs)\n",
    "\n",
    "def energy_with_external_fields(polymer):\n",
    "    bond_energy = soft_matter.energy.total_bond_energy(polymer)\n",
    "    xs, ys, zs = polymer.T\n",
    "    polymer_rad = np.sqrt(xs * xs + ys * ys + zs * zs)\n",
    "    aas, bbs = polymer_rad[:A_SEGMENTS], polymer_rad[A_SEGMENTS:]\n",
    "    field_energy = np.sum(field_A(aas)) + np.sum(field_B(bbs))\n",
    "    return bond_energy + field_energy / NUM_SEGMENTS"
   ]
  },
  {
   "cell_type": "markdown",
   "id": "34784719",
   "metadata": {},
   "source": [
    "## Simulate with external fields"
   ]
  },
  {
   "cell_type": "code",
   "execution_count": 5,
   "id": "43e748d8",
   "metadata": {},
   "outputs": [
    {
     "data": {
      "application/vnd.jupyter.widget-view+json": {
       "model_id": "541e903009944781aacc44bdf7a97e00",
       "version_major": 2,
       "version_minor": 0
      },
      "text/plain": [
       "  0%|          | 0/1600000 [00:00<?, ?it/s]"
      ]
     },
     "metadata": {},
     "output_type": "display_data"
    }
   ],
   "source": [
    "max_steps = 100_000\n",
    "drop_start = 10_000\n",
    "energy = energy_with_external_fields\n",
    "\n",
    "old_polymer = soft_matter.sample.sample_initial(NUM_SEGMENTS)\n",
    "ens = [old_polymer]\n",
    "energy_old = energy(old_polymer)\n",
    "for step in tqdm_(range(max_steps * NUM_SEGMENTS)):\n",
    "    new_polymer = soft_matter.dynamics.polymer_step(old_polymer)\n",
    "    energy_new = energy(new_polymer)\n",
    "\n",
    "    acceptance_rate = np.exp(energy_old - energy_new)\n",
    "    mc_number = np.random.rand()\n",
    "    if mc_number < acceptance_rate:  # accepted\n",
    "        ens.append(new_polymer)\n",
    "        old_polymer = new_polymer\n",
    "        energy_old = energy_new\n",
    "    else:\n",
    "        ens.append(old_polymer)  # rejected\n",
    "\n",
    "ens = np.array(ens[drop_start * NUM_SEGMENTS:])"
   ]
  },
  {
   "cell_type": "markdown",
   "id": "b13a5245",
   "metadata": {},
   "source": [
    "## Analyze and validate the simulation"
   ]
  },
  {
   "cell_type": "code",
   "execution_count": 6,
   "id": "ea47e113",
   "metadata": {},
   "outputs": [
    {
     "data": {
      "image/png": "[encoded data removed]",
      "text/plain": [
       "<Figure size 432x288 with 1 Axes>"
      ]
     },
     "metadata": {
      "needs_background": "light"
     },
     "output_type": "display_data"
    }
   ],
   "source": [
    "rad_ens = polymer_pos_to_rad(ens)\n",
    "aa_rads, bb_rads = rad_ens[:, :A_SEGMENTS].flatten(), rad_ens[:, A_SEGMENTS:].flatten()\n",
    "# aa_rads = aa_rads[aa_rads > .001]\n",
    "# bb_rads = bb_rads[bb_rads > .001]\n",
    "bins = np.linspace(0, 3, num=101)\n",
    "bin_middles = (bins[1:] + bins[:-1]) / 2\n",
    "\n",
    "# def radial_density():\n",
    "aa_density, aa_edges = np.histogram(aa_rads, weights=aa_rads**-2, bins=bins)\n",
    "bb_density, bb_edges = np.histogram(bb_rads, weights=bb_rads**-2, bins=bins)\n",
    "\n",
    "norm = aa_density[11] + bb_density[11]  # used some number that fits well\n",
    "plt.plot(bin_middles, aa_density / norm, label=\"$\\\\rho_A$\")\n",
    "plt.plot(bin_middles, bb_density / norm, label=\"$\\\\rho_B$\")\n",
    "plt.ylim(0, 1.2)\n",
    "plt.ylabel(\"$\\\\phi_A$ or $\\\\phi_B$\")\n",
    "plt.xlabel(\"$r/R_e$\")\n",
    "plt.savefig(figure_dir / \"ex1_partial_density_profile.pdf\")"
   ]
  }
 ],
 "metadata": {
  "kernelspec": {
   "display_name": "Python 3 (ipykernel)",
   "language": "python",
   "name": "python3"
  },
  "language_info": {
   "codemirror_mode": {
    "name": "ipython",
    "version": 3
   },
   "file_extension": ".py",
   "mimetype": "text/x-python",
   "name": "python",
   "nbconvert_exporter": "python",
   "pygments_lexer": "ipython3",
   "version": "3.10.8"
  }
 },
 "nbformat": 4,
 "nbformat_minor": 5
}
